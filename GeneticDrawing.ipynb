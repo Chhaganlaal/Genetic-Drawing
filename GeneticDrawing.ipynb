{
 "cells": [
  {
   "cell_type": "code",
   "execution_count": null,
   "metadata": {},
   "outputs": [],
   "source": [
    "import cv2\n",
    "import os\n",
    "import time\n",
    "from numba import jit\n",
    "from IPython.display import clear_output\n",
    "from genetic_drawing import *\n",
    "from util import *"
   ]
  },
  {
   "cell_type": "code",
   "execution_count": null,
   "metadata": {},
   "outputs": [],
   "source": [
    "gen = GeneticDrawing('example.jpg', seed=time.time())\n",
    "out = gen.generate(100, 20)"
   ]
  },
  {
   "cell_type": "code",
   "execution_count": null,
   "metadata": {},
   "outputs": [],
   "source": [
    "img = cv2.imread(\"example.jpg\")\n",
    "'''\n",
    "Create custom mask by covering desired area in the image\n",
    "Use Mouse Scroll to control size of brush for covering area\n",
    "Press Enter to finalize\n",
    "'''\n",
    "samp_mask = create_custom_mask(prep(img), 15)"
   ]
  },
  {
   "cell_type": "code",
   "execution_count": null,
   "metadata": {},
   "outputs": [],
   "source": [
    "# gen.set_sampling_mask(cv2.cvtColor(cv2.imread(\"mask.jpg\"), cv2.COLOR_BGR2GRAY))\n",
    "gen.set_sampling_mask(samp_mask)\n",
    "gen.set_brush_range([[0.05, 0.1], [0.1, 0.2]])\n",
    "out = gen.generate(100, 30)"
   ]
  },
  {
   "cell_type": "code",
   "execution_count": null,
   "metadata": {},
   "outputs": [],
   "source": [
    "if not os.path.exists('out'):\n",
    "    os.mkdir(\"out\")\n",
    "for i in range(len(gen.imgBuffer)):\n",
    "    cv2.imwrite(os.path.join(\"out\", f\"{i:06d}.png\"), gen.imgBuffer[i])"
   ]
  },
  {
   "cell_type": "code",
   "execution_count": null,
   "metadata": {},
   "outputs": [],
   "source": [
    "# Load saved progress to buffer\n",
    "gen = GeneticDrawing('example.jpg', seed=time.time())\n",
    "gen.pre_load_buffer('./out')"
   ]
  },
  {
   "cell_type": "code",
   "execution_count": null,
   "metadata": {},
   "outputs": [],
   "source": [
    "cv2.imshow(\"out\", out)\n",
    "cv2.waitKey(0)\n",
    "cv2.destroyWindow(\"out\")"
   ]
  }
 ],
 "metadata": {
  "kernelspec": {
   "display_name": "Python 3",
   "language": "python",
   "name": "python3"
  },
  "language_info": {
   "codemirror_mode": {
    "name": "ipython",
    "version": 3
   },
   "file_extension": ".py",
   "mimetype": "text/x-python",
   "name": "python",
   "nbconvert_exporter": "python",
   "pygments_lexer": "ipython3",
   "version": "3.7.6-final"
  }
 },
 "nbformat": 4,
 "nbformat_minor": 2
}